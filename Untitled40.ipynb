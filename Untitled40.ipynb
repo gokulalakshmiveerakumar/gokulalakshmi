{
  "nbformat": 4,
  "nbformat_minor": 0,
  "metadata": {
    "colab": {
      "provenance": [],
      "authorship_tag": "ABX9TyPZdqudH3LjVduEtNkb9WvG",
      "include_colab_link": true
    },
    "kernelspec": {
      "name": "python3",
      "display_name": "Python 3"
    },
    "language_info": {
      "name": "python"
    }
  },
  "cells": [
    {
      "cell_type": "markdown",
      "metadata": {
        "id": "view-in-github",
        "colab_type": "text"
      },
      "source": [
        "<a href=\"https://colab.research.google.com/github/gokulalakshmiveerakumar/gokulalakshmi/blob/main/Untitled40.ipynb\" target=\"_parent\"><img src=\"https://colab.research.google.com/assets/colab-badge.svg\" alt=\"Open In Colab\"/></a>"
      ]
    },
    {
      "cell_type": "code",
      "execution_count": 10,
      "metadata": {
        "colab": {
          "base_uri": "https://localhost:8080/"
        },
        "id": "9XWRFwSAOsdD",
        "outputId": "9038f805-6d9b-494c-bbd9-89db073c3865"
      },
      "outputs": [
        {
          "output_type": "stream",
          "name": "stdout",
          "text": [
            "Weekly Pay: Rs14800\n",
            "Monthly Income: Rs59200\n",
            "Annual Income: Rs769600\n"
          ]
        }
      ],
      "source": [
        "hourly_rate = 250\n",
        "overtime_rate = 100\n",
        "standard_hours = 48\n",
        "worked_hours = 56\n",
        "extra_hours = worked_hours - standard_hours\n",
        "\n",
        "if extra_hours > 0:\n",
        "    weekly_pay = (standard_hours * hourly_rate) + (extra_hours * (hourly_rate + overtime_rate))\n",
        "else:\n",
        "    weekly_pay = worked_hours * hourly_rate\n",
        "\n",
        "monthly_income = weekly_pay * 4\n",
        "annual_income = weekly_pay * 52\n",
        "\n",
        "print(f\"Weekly Pay: Rs{weekly_pay}\")\n",
        "print(f\"Monthly Income: Rs{monthly_income}\")\n",
        "print(f\"Annual Income: Rs{annual_income}\")\n"
      ]
    },
    {
      "cell_type": "code",
      "source": [
        "\n",
        "def base_bill(units):\n",
        "    if units <= 100:\n",
        "        return units * 0.50\n",
        "    elif units <= 200:\n",
        "        return (100 * 0.50) + ((units - 100) * 0.75)\n",
        "    elif units <= 300:\n",
        "        return (100 * 0.50) + (100 * 0.75) + ((units - 200) * 1.20)\n",
        "    else:\n",
        "        return (100 * 0.50) + (100 * 0.75) + (100 * 1.20) + ((units - 300) * 1.50)\n",
        "\n",
        "def total_bill(units, user_type):\n",
        "    cost = base_bill(units)\n",
        "    if user_type == \"household\":\n",
        "        return cost\n",
        "    elif user_type == \"commercial\":\n",
        "        return cost * 2\n",
        "    elif user_type == \"industrial\":\n",
        "        return cost * 3\n",
        "    elif user_type == \"government\":\n",
        "        return cost * 1.5\n",
        "    else:\n",
        "        return -1\n",
        "\n",
        "users = int(input(\"Enter number of users: \"))\n",
        "\n",
        "for u in range(users):\n",
        "    print(f\"\\nUser {u + 1}\")\n",
        "\n",
        "    while True:\n",
        "        try:\n",
        "            units = int(input(\"Enter units consumed (number): \"))\n",
        "            break\n",
        "        except ValueError:\n",
        "            print(\" Please enter a valid number for units!\")\n",
        "\n",
        "    user_type = input(\"Enter user type (household/commercial/industrial/government): \").lower()\n",
        "\n",
        "    bill = total_bill(units, user_type)\n",
        "\n",
        "    if bill == -1:\n",
        "        print(\"Invalid user type. Try again with correct option.\")\n",
        "    else:\n",
        "        print(f\"User Type        : {user_type.capitalize()}\")\n",
        "        print(f\"Units Consumed   : {units}\")\n",
        "        print(f\"Total Bill (₹)   : ₹{bill:.2f}\")\n"
      ],
      "metadata": {
        "colab": {
          "base_uri": "https://localhost:8080/"
        },
        "id": "HMAm3EtyRhpq",
        "outputId": "7623ba32-ef81-4247-860a-d09b14434441"
      },
      "execution_count": 7,
      "outputs": [
        {
          "output_type": "stream",
          "name": "stdout",
          "text": [
            "Enter number of users: 1\n",
            "\n",
            "User 1\n",
            "Enter units consumed (number): 3\n",
            "Enter user type (household/commercial/industrial/government): household\n",
            "User Type        : Household\n",
            "Units Consumed   : 3\n",
            "Total Bill (₹)   : ₹1.50\n"
          ]
        }
      ]
    },
    {
      "cell_type": "code",
      "source": [
        "class QuizBase:\n",
        "    def __init__(self):\n",
        "        self.questions = {\n",
        "            \"What is the full form of AI? \": \"artificial intelligence\",\n",
        "            \"Which library is used for machine learning in Python? \": \"scikit-learn\",\n",
        "            \"Which plot is best for visualizing categorical data? \": \"bar chart\",\n",
        "            \"Which metric is used to evaluate classification accuracy? \": \"accuracy\",\n",
        "            \"What does 'overfitting' mean in machine learning? \": \"model fits training data too well\"\n",
        "        }\n",
        "        self.score = 0\n",
        "\n",
        "    def ask_questions(self):\n",
        "        for question, correct_answer in self.questions.items():\n",
        "            user_answer = input(question).strip().lower()\n",
        "            if user_answer == correct_answer:\n",
        "                self.score += 2\n",
        "                print(\" Correct! +2\")\n",
        "            else:\n",
        "                self.score -= 1\n",
        "                print(\" Wrong! -1\")\n",
        "\n",
        "\n",
        "class DataScienceQuiz(QuizBase):\n",
        "    def __init__(self):\n",
        "        super().__init__()\n",
        "\n",
        "    def start_quiz(self):\n",
        "        print(\" Welcome to the Data Science & ML Quiz!\")\n",
        "        print(\"Each correct answer gives +2, each wrong gives -1.\\n\")\n",
        "        self.ask_questions()\n",
        "        print(\"\\n Quiz Over!\")\n",
        "        print(f\"Your Total Score: {self.score} out of 10\")\n",
        "\n",
        "\n",
        "quiz = DataScienceQuiz()\n",
        "quiz.start_quiz()\n"
      ],
      "metadata": {
        "colab": {
          "base_uri": "https://localhost:8080/"
        },
        "id": "7bDiTDxaSMNG",
        "outputId": "9a7cf46b-9bf0-469b-fa8e-3862535476f6"
      },
      "execution_count": 8,
      "outputs": [
        {
          "output_type": "stream",
          "name": "stdout",
          "text": [
            " Welcome to the Data Science & ML Quiz!\n",
            "Each correct answer gives +2, each wrong gives -1.\n",
            "\n",
            "What is the full form of AI? w\n",
            " Wrong! -1\n",
            "Which library is used for machine learning in Python? e\n",
            " Wrong! -1\n",
            "Which plot is best for visualizing categorical data? r\n",
            " Wrong! -1\n",
            "Which metric is used to evaluate classification accuracy? t\n",
            " Wrong! -1\n",
            "What does 'overfitting' mean in machine learning? g\n",
            " Wrong! -1\n",
            "\n",
            " Quiz Over!\n",
            "Your Total Score: -5 out of 10\n"
          ]
        }
      ]
    },
    {
      "cell_type": "code",
      "source": [],
      "metadata": {
        "id": "pVyZceWRSrHa"
      },
      "execution_count": null,
      "outputs": []
    },
    {
      "cell_type": "code",
      "source": [
        "class Employee:\n",
        "    def __init__(self, name, basic_salary):\n",
        "        self.name = name\n",
        "        self.basic = basic_salary\n",
        "\n",
        "\n",
        "class SalaryCalculator(Employee):\n",
        "\n",
        "    def calculate_allowances(self):\n",
        "        da = self.basic * 0.20\n",
        "        hra = self.basic * 0.10\n",
        "        ta = self.basic * 0.075\n",
        "        return da, hra, ta\n",
        "\n",
        "    def calculate_deductions(self):\n",
        "        pf = self.basic * 0.12\n",
        "        emi = self.basic * 0.02\n",
        "        return pf, emi\n",
        "\n",
        "    def calculate_salary(self):\n",
        "        da, hra, ta = self.calculate_allowances()\n",
        "        pf, emi = self.calculate_deductions()\n",
        "        gross_salary = self.basic + da + hra + ta\n",
        "        net_salary = gross_salary - (pf + emi)\n",
        "        self.display_salary(gross_salary, net_salary)\n",
        "\n",
        "    def display_salary(self, gross, net):\n",
        "        print(f\"\\nEmployee Name   : {self.name}\")\n",
        "        print(f\"Basic Salary    : ₹{self.basic:.2f}\")\n",
        "        print(f\"Gross Salary    : ₹{gross:.2f}\")\n",
        "        print(f\"Net Salary      : ₹{net:.2f}\")\n",
        "        print(\"-\" * 30)\n",
        "num_employees = int(input(\"Enter number of employees: \"))\n",
        "\n",
        "for i in range(num_employees):\n",
        "    print(f\"\\nEmployee {i + 1}\")\n",
        "    name = input(\"Enter employee name: \")\n",
        "    basic_salary = float(input(\"Enter basic salary: ₹\"))\n",
        "\n",
        "    emp = SalaryCalculator(name, basic_salary)\n",
        "    emp.calculate_salary()\n",
        "\n",
        "\n"
      ],
      "metadata": {
        "colab": {
          "base_uri": "https://localhost:8080/"
        },
        "id": "e2n9cwVVSw_G",
        "outputId": "21e9e2c0-5bf9-4e68-8480-8cd8cf6f3f69"
      },
      "execution_count": 9,
      "outputs": [
        {
          "output_type": "stream",
          "name": "stdout",
          "text": [
            "Enter number of employees: 2\n",
            "\n",
            "Employee 1\n",
            "Enter employee name: lakshmi\n",
            "Enter basic salary: ₹5000\n",
            "\n",
            "Employee Name   : lakshmi\n",
            "Basic Salary    : ₹5000.00\n",
            "Gross Salary    : ₹6875.00\n",
            "Net Salary      : ₹6175.00\n",
            "------------------------------\n",
            "\n",
            "Employee 2\n",
            "Enter employee name: gokula\n",
            "Enter basic salary: ₹5000\n",
            "\n",
            "Employee Name   : gokula\n",
            "Basic Salary    : ₹5000.00\n",
            "Gross Salary    : ₹6875.00\n",
            "Net Salary      : ₹6175.00\n",
            "------------------------------\n"
          ]
        }
      ]
    }
  ]
}